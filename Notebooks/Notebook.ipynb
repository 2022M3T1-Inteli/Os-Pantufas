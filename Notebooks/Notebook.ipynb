{
  "nbformat": 4,
  "nbformat_minor": 0,
  "metadata": {
    "colab": {
      "name": "Pantufa.ipynb",
      "provenance": [],
      "collapsed_sections": []
    },
    "kernelspec": {
      "name": "python3",
      "display_name": "Python 3"
    },
    "language_info": {
      "name": "python"
    }
  },
  "cells": [
    {
      "cell_type": "markdown",
      "source": [
        "**Instalações necessárias**\n",
        "- FASE 1: Instalação do python no notebook do colab."
      ],
      "metadata": {
        "id": "Cp0NtX9BvmPT"
      }
    },
    {
      "cell_type": "code",
      "execution_count": null,
      "metadata": {
        "id": "sZz1pvXR96Ad"
      },
      "outputs": [],
      "source": [
        "!pip install -U -q PyDrive"
      ]
    },
    {
      "cell_type": "markdown",
      "source": [
        "**Importações necessárias**\n",
        "- FASE 2: Importações das bibliotecas a serem utilizadas."
      ],
      "metadata": {
        "id": "trVVbOY7v0lP"
      }
    },
    {
      "cell_type": "code",
      "source": [
        "import pandas as pd\n",
        "from pydrive.auth import GoogleAuth\n",
        "from pydrive.drive import GoogleDrive\n",
        "from google.colab import auth\n",
        "from oauth2client.client import GoogleCredentials\n",
        "import warnings\n",
        "import shutil\n",
        "warnings.filterwarnings('ignore')\n",
        "from sklearn.linear_model import LinearRegression\n",
        "from sklearn.model_selection import train_test_split\n",
        "from sklearn.tree import DecisionTreeRegressor\n",
        "import plotly.express as px"
      ],
      "metadata": {
        "id": "PUMAFtKH-Fxc"
      },
      "execution_count": null,
      "outputs": []
    },
    {
      "cell_type": "markdown",
      "source": [
        "**Autenticação de segurança**\n",
        "- FASE 3: Verificação de acesso do email INTELI para acessar a base de dados fornecida pelo Banco Pan. Importante para a segurança dos dados."
      ],
      "metadata": {
        "id": "esv9hbGLwKZt"
      }
    },
    {
      "cell_type": "code",
      "source": [
        "# Autenticação para acesso aos dados\n",
        "auth.authenticate_user()\n",
        "gauth = GoogleAuth()\n",
        "gauth.credentials = GoogleCredentials.get_application_default()\n",
        "drive = GoogleDrive(gauth)"
      ],
      "metadata": {
        "id": "Cv3u-tGW-Hkm"
      },
      "execution_count": null,
      "outputs": []
    },
    {
      "cell_type": "markdown",
      "source": [
        "**Download dos Dados**\n",
        "- FASE 4: Realização do download dos dados da base para esse notebook do Colab, para a visualização e manipulação."
      ],
      "metadata": {
        "id": "a245Rqrewe97"
      }
    },
    {
      "cell_type": "code",
      "source": [
        "# Download dos dados para esta máquina virtual\n",
        "downloaded = drive.CreateFile({'id': '1tVSvbYcKDgwdnm3OxbWaSIKXHZYEapyU'})\n",
        "downloaded.GetContentFile(\"book_variaveis_pan_inteli_v4.zip\")\n",
        "shutil.unpack_archive(\"book_variaveis_pan_inteli_v4.zip\", \"./\")"
      ],
      "metadata": {
        "id": "ct4XM60K-Liq"
      },
      "execution_count": null,
      "outputs": []
    },
    {
      "cell_type": "code",
      "source": [
        "df = pd.read_csv(\"book_variaveis_pan_inteli_v4.csv\")"
      ],
      "metadata": {
        "id": "_IyTFYUiCDfz"
      },
      "execution_count": null,
      "outputs": []
    },
    {
      "cell_type": "markdown",
      "source": [
        "**Inicio do tratamento dos Dados**\n",
        "- FASE 5: Seleção de Safra e tratamento inicial das colunas com dados nulos/vazios, como o modelo de treinamento não aceita dados nulos ou strings, essa fase se torna de suma importância e deve ser realizada com calma.\n",
        "- Isso está sendo feito para a melhor filtragem de dados, e para não consumirmos uma enorme quantidade de processamento.\n"
      ],
      "metadata": {
        "id": "eMnzYmN0HJWW"
      }
    },
    {
      "cell_type": "code",
      "source": [
        "#Seleciona uma safra, tira possiveis duplicados e troca o NaN por 0.\n",
        "\n",
        "df_202104 = df.loc[df['anomes'] == 202104].drop_duplicates(keep='first').fillna(0)\n",
        "df_202104\n"
      ],
      "metadata": {
        "id": "mel5eTXgFIZG",
        "colab": {
          "base_uri": "https://localhost:8080/"
        },
        "outputId": "e5de417f-2d84-4a1b-ccc1-e095705cabab"
      },
      "execution_count": null,
      "outputs": [
        {
          "output_type": "execute_result",
          "data": {
            "text/plain": [
              "        anomes                                       num_cpf_hash  \\\n",
              "0       202104  fffff8b0db8eff291be8b83f8885f52c52782bb42c3c4b...   \n",
              "1       202104  ffffd54b45ec46113523184fc07185a0d5cbfa876a07ba...   \n",
              "2       202104  ffffd47a92b3e4291c013033ae528708a19eaede50f78e...   \n",
              "3       202104  ffffc102ddd37ec29e985a4564e85a2bace79a85ebff5e...   \n",
              "4       202104  ffffbd4a3d42a12e07b1202d68c33d43220c42c8a55160...   \n",
              "...        ...                                                ...   \n",
              "999992  202104  00003a6cf049e4fe3416c1a55d1fc1aac613956ecd5d7a...   \n",
              "999993  202104  000038baed6e8076adec7272523211faaec7bf8b30b1e1...   \n",
              "999994  202104  00003671431c71ae1a84ec138b63c7a6e465f9616af5ea...   \n",
              "999995  202104  000031eae3bd9f91ad57acc059876d383658f1ba748195...   \n",
              "999996  202104  00002ee6cdc9ece76f4b04620cfd7f3f2e267b1d05cce7...   \n",
              "\n",
              "        vlr_credito  vlr_saldo  num_atend_atrs  vlr_score  num_produtos  \\\n",
              "0              0.00       0.00             0.0        0.0           0.0   \n",
              "1          35943.74    5815.50             0.0      377.0           1.0   \n",
              "2           6288.22       0.00             0.0      257.0           0.0   \n",
              "3              0.00       0.00             0.0        0.0           0.0   \n",
              "4           1238.93    1400.00             0.0      773.0           2.0   \n",
              "...             ...        ...             ...        ...           ...   \n",
              "999992         0.00       0.00             0.0      382.0           1.0   \n",
              "999993     30717.14    1848.06             0.0      578.0           1.0   \n",
              "999994      2352.13    1443.31             0.0      372.0           1.0   \n",
              "999995         0.00       0.00             0.0        0.0           0.0   \n",
              "999996         0.00       0.00             0.0        0.0           0.0   \n",
              "\n",
              "        num_atend  qtd_oper  qtd_reclm  qtd_restr  vlr_renda cod_rating  \\\n",
              "0             0.0       0.0        0.0        1.0          0          0   \n",
              "1             0.0      24.0        0.0       10.0          0          A   \n",
              "2             0.0      22.0        0.0        4.0          0          0   \n",
              "3             0.0       0.0        0.0        2.0          0          0   \n",
              "4             0.0      21.0        0.0        0.0          0          A   \n",
              "...           ...       ...        ...        ...        ...        ...   \n",
              "999992        0.0       1.0        0.0        0.0          0          0   \n",
              "999993        0.0      19.0        0.0        0.0          0          A   \n",
              "999994        0.0       9.0        0.0        1.0          0          E   \n",
              "999995        0.0       0.0        0.0        1.0          0          0   \n",
              "999996        0.0       0.0        0.0        3.0          0          0   \n",
              "\n",
              "        ind_atrito  ind_engaj  ind_novo_cli  \n",
              "0              0.0        0.0           0.0  \n",
              "1              0.0        1.0           0.0  \n",
              "2              0.0        0.0           0.0  \n",
              "3              0.0        0.0           0.0  \n",
              "4              0.0        1.0           0.0  \n",
              "...            ...        ...           ...  \n",
              "999992         0.0        0.0           0.0  \n",
              "999993         0.0        1.0           0.0  \n",
              "999994         0.0        1.0           0.0  \n",
              "999995         0.0        0.0           0.0  \n",
              "999996         0.0        0.0           0.0  \n",
              "\n",
              "[999997 rows x 16 columns]"
            ],
            "text/html": [
              "\n",
              "  <div id=\"df-6914ad84-bb1e-4bac-8c0e-cd528faac4c1\">\n",
              "    <div class=\"colab-df-container\">\n",
              "      <div>\n",
              "<style scoped>\n",
              "    .dataframe tbody tr th:only-of-type {\n",
              "        vertical-align: middle;\n",
              "    }\n",
              "\n",
              "    .dataframe tbody tr th {\n",
              "        vertical-align: top;\n",
              "    }\n",
              "\n",
              "    .dataframe thead th {\n",
              "        text-align: right;\n",
              "    }\n",
              "</style>\n",
              "<table border=\"1\" class=\"dataframe\">\n",
              "  <thead>\n",
              "    <tr style=\"text-align: right;\">\n",
              "      <th></th>\n",
              "      <th>anomes</th>\n",
              "      <th>num_cpf_hash</th>\n",
              "      <th>vlr_credito</th>\n",
              "      <th>vlr_saldo</th>\n",
              "      <th>num_atend_atrs</th>\n",
              "      <th>vlr_score</th>\n",
              "      <th>num_produtos</th>\n",
              "      <th>num_atend</th>\n",
              "      <th>qtd_oper</th>\n",
              "      <th>qtd_reclm</th>\n",
              "      <th>qtd_restr</th>\n",
              "      <th>vlr_renda</th>\n",
              "      <th>cod_rating</th>\n",
              "      <th>ind_atrito</th>\n",
              "      <th>ind_engaj</th>\n",
              "      <th>ind_novo_cli</th>\n",
              "    </tr>\n",
              "  </thead>\n",
              "  <tbody>\n",
              "    <tr>\n",
              "      <th>0</th>\n",
              "      <td>202104</td>\n",
              "      <td>fffff8b0db8eff291be8b83f8885f52c52782bb42c3c4b...</td>\n",
              "      <td>0.00</td>\n",
              "      <td>0.00</td>\n",
              "      <td>0.0</td>\n",
              "      <td>0.0</td>\n",
              "      <td>0.0</td>\n",
              "      <td>0.0</td>\n",
              "      <td>0.0</td>\n",
              "      <td>0.0</td>\n",
              "      <td>1.0</td>\n",
              "      <td>0</td>\n",
              "      <td>0</td>\n",
              "      <td>0.0</td>\n",
              "      <td>0.0</td>\n",
              "      <td>0.0</td>\n",
              "    </tr>\n",
              "    <tr>\n",
              "      <th>1</th>\n",
              "      <td>202104</td>\n",
              "      <td>ffffd54b45ec46113523184fc07185a0d5cbfa876a07ba...</td>\n",
              "      <td>35943.74</td>\n",
              "      <td>5815.50</td>\n",
              "      <td>0.0</td>\n",
              "      <td>377.0</td>\n",
              "      <td>1.0</td>\n",
              "      <td>0.0</td>\n",
              "      <td>24.0</td>\n",
              "      <td>0.0</td>\n",
              "      <td>10.0</td>\n",
              "      <td>0</td>\n",
              "      <td>A</td>\n",
              "      <td>0.0</td>\n",
              "      <td>1.0</td>\n",
              "      <td>0.0</td>\n",
              "    </tr>\n",
              "    <tr>\n",
              "      <th>2</th>\n",
              "      <td>202104</td>\n",
              "      <td>ffffd47a92b3e4291c013033ae528708a19eaede50f78e...</td>\n",
              "      <td>6288.22</td>\n",
              "      <td>0.00</td>\n",
              "      <td>0.0</td>\n",
              "      <td>257.0</td>\n",
              "      <td>0.0</td>\n",
              "      <td>0.0</td>\n",
              "      <td>22.0</td>\n",
              "      <td>0.0</td>\n",
              "      <td>4.0</td>\n",
              "      <td>0</td>\n",
              "      <td>0</td>\n",
              "      <td>0.0</td>\n",
              "      <td>0.0</td>\n",
              "      <td>0.0</td>\n",
              "    </tr>\n",
              "    <tr>\n",
              "      <th>3</th>\n",
              "      <td>202104</td>\n",
              "      <td>ffffc102ddd37ec29e985a4564e85a2bace79a85ebff5e...</td>\n",
              "      <td>0.00</td>\n",
              "      <td>0.00</td>\n",
              "      <td>0.0</td>\n",
              "      <td>0.0</td>\n",
              "      <td>0.0</td>\n",
              "      <td>0.0</td>\n",
              "      <td>0.0</td>\n",
              "      <td>0.0</td>\n",
              "      <td>2.0</td>\n",
              "      <td>0</td>\n",
              "      <td>0</td>\n",
              "      <td>0.0</td>\n",
              "      <td>0.0</td>\n",
              "      <td>0.0</td>\n",
              "    </tr>\n",
              "    <tr>\n",
              "      <th>4</th>\n",
              "      <td>202104</td>\n",
              "      <td>ffffbd4a3d42a12e07b1202d68c33d43220c42c8a55160...</td>\n",
              "      <td>1238.93</td>\n",
              "      <td>1400.00</td>\n",
              "      <td>0.0</td>\n",
              "      <td>773.0</td>\n",
              "      <td>2.0</td>\n",
              "      <td>0.0</td>\n",
              "      <td>21.0</td>\n",
              "      <td>0.0</td>\n",
              "      <td>0.0</td>\n",
              "      <td>0</td>\n",
              "      <td>A</td>\n",
              "      <td>0.0</td>\n",
              "      <td>1.0</td>\n",
              "      <td>0.0</td>\n",
              "    </tr>\n",
              "    <tr>\n",
              "      <th>...</th>\n",
              "      <td>...</td>\n",
              "      <td>...</td>\n",
              "      <td>...</td>\n",
              "      <td>...</td>\n",
              "      <td>...</td>\n",
              "      <td>...</td>\n",
              "      <td>...</td>\n",
              "      <td>...</td>\n",
              "      <td>...</td>\n",
              "      <td>...</td>\n",
              "      <td>...</td>\n",
              "      <td>...</td>\n",
              "      <td>...</td>\n",
              "      <td>...</td>\n",
              "      <td>...</td>\n",
              "      <td>...</td>\n",
              "    </tr>\n",
              "    <tr>\n",
              "      <th>999992</th>\n",
              "      <td>202104</td>\n",
              "      <td>00003a6cf049e4fe3416c1a55d1fc1aac613956ecd5d7a...</td>\n",
              "      <td>0.00</td>\n",
              "      <td>0.00</td>\n",
              "      <td>0.0</td>\n",
              "      <td>382.0</td>\n",
              "      <td>1.0</td>\n",
              "      <td>0.0</td>\n",
              "      <td>1.0</td>\n",
              "      <td>0.0</td>\n",
              "      <td>0.0</td>\n",
              "      <td>0</td>\n",
              "      <td>0</td>\n",
              "      <td>0.0</td>\n",
              "      <td>0.0</td>\n",
              "      <td>0.0</td>\n",
              "    </tr>\n",
              "    <tr>\n",
              "      <th>999993</th>\n",
              "      <td>202104</td>\n",
              "      <td>000038baed6e8076adec7272523211faaec7bf8b30b1e1...</td>\n",
              "      <td>30717.14</td>\n",
              "      <td>1848.06</td>\n",
              "      <td>0.0</td>\n",
              "      <td>578.0</td>\n",
              "      <td>1.0</td>\n",
              "      <td>0.0</td>\n",
              "      <td>19.0</td>\n",
              "      <td>0.0</td>\n",
              "      <td>0.0</td>\n",
              "      <td>0</td>\n",
              "      <td>A</td>\n",
              "      <td>0.0</td>\n",
              "      <td>1.0</td>\n",
              "      <td>0.0</td>\n",
              "    </tr>\n",
              "    <tr>\n",
              "      <th>999994</th>\n",
              "      <td>202104</td>\n",
              "      <td>00003671431c71ae1a84ec138b63c7a6e465f9616af5ea...</td>\n",
              "      <td>2352.13</td>\n",
              "      <td>1443.31</td>\n",
              "      <td>0.0</td>\n",
              "      <td>372.0</td>\n",
              "      <td>1.0</td>\n",
              "      <td>0.0</td>\n",
              "      <td>9.0</td>\n",
              "      <td>0.0</td>\n",
              "      <td>1.0</td>\n",
              "      <td>0</td>\n",
              "      <td>E</td>\n",
              "      <td>0.0</td>\n",
              "      <td>1.0</td>\n",
              "      <td>0.0</td>\n",
              "    </tr>\n",
              "    <tr>\n",
              "      <th>999995</th>\n",
              "      <td>202104</td>\n",
              "      <td>000031eae3bd9f91ad57acc059876d383658f1ba748195...</td>\n",
              "      <td>0.00</td>\n",
              "      <td>0.00</td>\n",
              "      <td>0.0</td>\n",
              "      <td>0.0</td>\n",
              "      <td>0.0</td>\n",
              "      <td>0.0</td>\n",
              "      <td>0.0</td>\n",
              "      <td>0.0</td>\n",
              "      <td>1.0</td>\n",
              "      <td>0</td>\n",
              "      <td>0</td>\n",
              "      <td>0.0</td>\n",
              "      <td>0.0</td>\n",
              "      <td>0.0</td>\n",
              "    </tr>\n",
              "    <tr>\n",
              "      <th>999996</th>\n",
              "      <td>202104</td>\n",
              "      <td>00002ee6cdc9ece76f4b04620cfd7f3f2e267b1d05cce7...</td>\n",
              "      <td>0.00</td>\n",
              "      <td>0.00</td>\n",
              "      <td>0.0</td>\n",
              "      <td>0.0</td>\n",
              "      <td>0.0</td>\n",
              "      <td>0.0</td>\n",
              "      <td>0.0</td>\n",
              "      <td>0.0</td>\n",
              "      <td>3.0</td>\n",
              "      <td>0</td>\n",
              "      <td>0</td>\n",
              "      <td>0.0</td>\n",
              "      <td>0.0</td>\n",
              "      <td>0.0</td>\n",
              "    </tr>\n",
              "  </tbody>\n",
              "</table>\n",
              "<p>999997 rows × 16 columns</p>\n",
              "</div>\n",
              "      <button class=\"colab-df-convert\" onclick=\"convertToInteractive('df-6914ad84-bb1e-4bac-8c0e-cd528faac4c1')\"\n",
              "              title=\"Convert this dataframe to an interactive table.\"\n",
              "              style=\"display:none;\">\n",
              "        \n",
              "  <svg xmlns=\"http://www.w3.org/2000/svg\" height=\"24px\"viewBox=\"0 0 24 24\"\n",
              "       width=\"24px\">\n",
              "    <path d=\"M0 0h24v24H0V0z\" fill=\"none\"/>\n",
              "    <path d=\"M18.56 5.44l.94 2.06.94-2.06 2.06-.94-2.06-.94-.94-2.06-.94 2.06-2.06.94zm-11 1L8.5 8.5l.94-2.06 2.06-.94-2.06-.94L8.5 2.5l-.94 2.06-2.06.94zm10 10l.94 2.06.94-2.06 2.06-.94-2.06-.94-.94-2.06-.94 2.06-2.06.94z\"/><path d=\"M17.41 7.96l-1.37-1.37c-.4-.4-.92-.59-1.43-.59-.52 0-1.04.2-1.43.59L10.3 9.45l-7.72 7.72c-.78.78-.78 2.05 0 2.83L4 21.41c.39.39.9.59 1.41.59.51 0 1.02-.2 1.41-.59l7.78-7.78 2.81-2.81c.8-.78.8-2.07 0-2.86zM5.41 20L4 18.59l7.72-7.72 1.47 1.35L5.41 20z\"/>\n",
              "  </svg>\n",
              "      </button>\n",
              "      \n",
              "  <style>\n",
              "    .colab-df-container {\n",
              "      display:flex;\n",
              "      flex-wrap:wrap;\n",
              "      gap: 12px;\n",
              "    }\n",
              "\n",
              "    .colab-df-convert {\n",
              "      background-color: #E8F0FE;\n",
              "      border: none;\n",
              "      border-radius: 50%;\n",
              "      cursor: pointer;\n",
              "      display: none;\n",
              "      fill: #1967D2;\n",
              "      height: 32px;\n",
              "      padding: 0 0 0 0;\n",
              "      width: 32px;\n",
              "    }\n",
              "\n",
              "    .colab-df-convert:hover {\n",
              "      background-color: #E2EBFA;\n",
              "      box-shadow: 0px 1px 2px rgba(60, 64, 67, 0.3), 0px 1px 3px 1px rgba(60, 64, 67, 0.15);\n",
              "      fill: #174EA6;\n",
              "    }\n",
              "\n",
              "    [theme=dark] .colab-df-convert {\n",
              "      background-color: #3B4455;\n",
              "      fill: #D2E3FC;\n",
              "    }\n",
              "\n",
              "    [theme=dark] .colab-df-convert:hover {\n",
              "      background-color: #434B5C;\n",
              "      box-shadow: 0px 1px 3px 1px rgba(0, 0, 0, 0.15);\n",
              "      filter: drop-shadow(0px 1px 2px rgba(0, 0, 0, 0.3));\n",
              "      fill: #FFFFFF;\n",
              "    }\n",
              "  </style>\n",
              "\n",
              "      <script>\n",
              "        const buttonEl =\n",
              "          document.querySelector('#df-6914ad84-bb1e-4bac-8c0e-cd528faac4c1 button.colab-df-convert');\n",
              "        buttonEl.style.display =\n",
              "          google.colab.kernel.accessAllowed ? 'block' : 'none';\n",
              "\n",
              "        async function convertToInteractive(key) {\n",
              "          const element = document.querySelector('#df-6914ad84-bb1e-4bac-8c0e-cd528faac4c1');\n",
              "          const dataTable =\n",
              "            await google.colab.kernel.invokeFunction('convertToInteractive',\n",
              "                                                     [key], {});\n",
              "          if (!dataTable) return;\n",
              "\n",
              "          const docLinkHtml = 'Like what you see? Visit the ' +\n",
              "            '<a target=\"_blank\" href=https://colab.research.google.com/notebooks/data_table.ipynb>data table notebook</a>'\n",
              "            + ' to learn more about interactive tables.';\n",
              "          element.innerHTML = '';\n",
              "          dataTable['output_type'] = 'display_data';\n",
              "          await google.colab.output.renderOutput(dataTable, element);\n",
              "          const docLink = document.createElement('div');\n",
              "          docLink.innerHTML = docLinkHtml;\n",
              "          element.appendChild(docLink);\n",
              "        }\n",
              "      </script>\n",
              "    </div>\n",
              "  </div>\n",
              "  "
            ]
          },
          "metadata": {},
          "execution_count": 7
        }
      ]
    },
    {
      "cell_type": "markdown",
      "source": [
        "**Tratando Dados**\n",
        "- FASE 6: Tratamento de valores em formato String da coluna 'cod_rating'. Como citado no passo anterior, um modelo de treinamento não deve possuir strings, sendo assim é necessario fazer o tratamento na coluna 'cod_rating' transformando a escala que antes era \"A, AA, B, C, D, E, F, G,H, HH\" para \"10, 9, 8, 7, 6, 5, 4, 3, 2, 1, 0\". **Nota: Já que tratamos os valores nulos de toda os campos anteriormente, não é necessario tratar novamente nesta etapa, desta maneira o valor NaN é considerado o valor 0.**"
      ],
      "metadata": {
        "id": "5AzaI7rUuaTP"
      }
    },
    {
      "cell_type": "code",
      "source": [
        "# Troca de valores escala em string da coluna cod_rating para a escala em formato númerico\n",
        "df_202104['cod_rating'] = (df_202104['cod_rating'].replace('HH', 1)\n",
        "                                                  .replace('H', 2)\n",
        "                                                  .replace('G', 3)\n",
        "                                                  .replace('F', 4)\n",
        "                                                  .replace('E', 5)\n",
        "                                                  .replace('D', 6)\n",
        "                                                  .replace('C', 7)\n",
        "                                                  .replace('B', 8)\n",
        "                                                  .replace('AA', 9)\n",
        "                                                  .replace('A', 10))"
      ],
      "metadata": {
        "id": "tF5PcvAvqGWR"
      },
      "execution_count": null,
      "outputs": []
    },
    {
      "cell_type": "markdown",
      "source": [
        "**Ordenar Dados**\n",
        "- FASE 7: Para a criação do modelo de treinamento, ordenamos os dados tratados com base na coluna de 'ind_atrito' para poder pegar o maior número de linhas que possua valor na coluna diferente de 0. \n",
        "- O ordenamento é feito para facilitar a separação entre os clientes com índice atritado 1 e 0, auxiliando o corte dos dados que serão usados no treinamento do modelo.\n"
      ],
      "metadata": {
        "id": "qYBtUqX2us7i"
      }
    },
    {
      "cell_type": "code",
      "source": [
        "#Ordenação dos dados pela coluna ind_atrito\n",
        "df_202104 = df_202104.sort_values(by=['ind_atrito'],ascending=False)"
      ],
      "metadata": {
        "id": "fkFb2SQUsaaM"
      },
      "execution_count": null,
      "outputs": []
    },
    {
      "cell_type": "markdown",
      "source": [
        "**Seleção dos Dados para Preparação**\n",
        "- FASE 8: Devido a safra selecionada, 260 linhas da base de dados possui valor diferente de 0 na coluna 'ind_atrito', por meio deste dado, estipulamos para o modelo preditivo inicial a seleção de ao todo 520 linhas das base de dados sendo fatiado ao meio (260 linhas) em relação ao valor do indice(1=true; 0=false) e no final realizando a randomização dos dados para que esses venham sem esse tratamento de ordenação para a fase de treinamento. "
      ],
      "metadata": {
        "id": "swIg2x2pvhOS"
      }
    },
    {
      "cell_type": "code",
      "source": [
        "from sklearn.utils import shuffle\n",
        "\n",
        "#sendo 260 atritados, selecionamos 520 linhas, ou seja, meio a meio\n",
        "dados_preparados = df_202104[0:520]\n",
        "\n",
        "#randomiza ordem para evitar vício\n",
        "dados_preparados  = shuffle(dados_preparados)"
      ],
      "metadata": {
        "id": "Md45LzUvNriY"
      },
      "execution_count": null,
      "outputs": []
    },
    {
      "cell_type": "markdown",
      "source": [
        "**Relatório dos Dados em Gráfico**\n",
        "- FASE 9: Criação do gráfico de valor do score por indice de atrito, para checar se há relação das pessoas que possuem maior score terem um indice maior de atrito."
      ],
      "metadata": {
        "id": "Y1D6K01Sxjp-"
      }
    },
    {
      "cell_type": "code",
      "source": [
        "#Criação do gráfico com seus repectivos dados\n",
        "fig = px.area(dados_preparados, x='ind_atrito', y='vlr_score', height=300, width=600)\n",
        "#Atualização dos gráficos\n",
        "fig.update_xaxes(type='category')\n",
        "#Vizualiação do gráfico\n",
        "fig.show()"
      ],
      "metadata": {
        "colab": {
          "base_uri": "https://localhost:8080/",
          "height": 317
        },
        "id": "EHTkL11kisIt",
        "outputId": "4aaeed6a-6881-4bac-be45-f4d7600692c9"
      },
      "execution_count": null,
      "outputs": [
        {
          "output_type": "display_data",
          "data": {
            "text/html": [
              "<html>\n",
              "<head><meta charset=\"utf-8\" /></head>\n",
              "<body>\n",
              "    <div>            <script src=\"https://cdnjs.cloudflare.com/ajax/libs/mathjax/2.7.5/MathJax.js?config=TeX-AMS-MML_SVG\"></script><script type=\"text/javascript\">if (window.MathJax) {MathJax.Hub.Config({SVG: {font: \"STIX-Web\"}});}</script>                <script type=\"text/javascript\">window.PlotlyConfig = {MathJaxConfig: 'local'};</script>\n",
              "        <script src=\"https://cdn.plot.ly/plotly-2.8.3.min.js\"></script>                <div id=\"6d21eeea-cae3-43b3-80ae-e58556d0935c\" class=\"plotly-graph-div\" style=\"height:300px; width:600px;\"></div>            <script type=\"text/javascript\">                                    window.PLOTLYENV=window.PLOTLYENV || {};                                    if (document.getElementById(\"6d21eeea-cae3-43b3-80ae-e58556d0935c\")) {                    Plotly.newPlot(                        \"6d21eeea-cae3-43b3-80ae-e58556d0935c\",                        [{\"hovertemplate\":\"ind_atrito=%{x}<br>vlr_score=%{y}<extra></extra>\",\"legendgroup\":\"\",\"line\":{\"color\":\"#636efa\"},\"marker\":{\"symbol\":\"circle\"},\"mode\":\"lines\",\"name\":\"\",\"orientation\":\"v\",\"showlegend\":false,\"stackgroup\":\"1\",\"x\":[0.0,1.0,0.0,1.0,0.0,1.0,1.0,1.0,0.0,1.0,0.0,1.0,0.0,0.0,1.0,0.0,0.0,1.0,1.0,1.0,0.0,1.0,0.0,1.0,0.0,0.0,1.0,1.0,1.0,0.0,1.0,1.0,1.0,1.0,0.0,0.0,1.0,1.0,1.0,1.0,0.0,1.0,0.0,0.0,1.0,1.0,1.0,0.0,0.0,0.0,0.0,1.0,1.0,1.0,1.0,1.0,1.0,0.0,1.0,1.0,0.0,0.0,1.0,0.0,0.0,0.0,1.0,1.0,0.0,0.0,0.0,0.0,1.0,0.0,0.0,1.0,1.0,1.0,1.0,1.0,0.0,0.0,0.0,1.0,0.0,0.0,0.0,1.0,1.0,0.0,0.0,1.0,1.0,1.0,1.0,0.0,1.0,1.0,0.0,1.0,0.0,1.0,1.0,1.0,1.0,0.0,0.0,0.0,0.0,0.0,0.0,0.0,1.0,1.0,1.0,0.0,1.0,1.0,1.0,1.0,0.0,1.0,1.0,1.0,0.0,0.0,0.0,0.0,0.0,1.0,0.0,0.0,0.0,1.0,0.0,1.0,1.0,1.0,0.0,1.0,0.0,1.0,0.0,1.0,1.0,1.0,0.0,0.0,0.0,1.0,1.0,0.0,0.0,0.0,1.0,1.0,0.0,0.0,1.0,0.0,1.0,1.0,1.0,1.0,1.0,0.0,0.0,1.0,0.0,0.0,0.0,1.0,0.0,0.0,0.0,1.0,0.0,1.0,0.0,1.0,0.0,0.0,0.0,0.0,1.0,1.0,1.0,1.0,1.0,0.0,1.0,1.0,0.0,0.0,1.0,1.0,1.0,1.0,0.0,0.0,0.0,0.0,0.0,0.0,1.0,1.0,0.0,0.0,0.0,0.0,0.0,1.0,0.0,0.0,1.0,1.0,1.0,0.0,0.0,0.0,0.0,1.0,1.0,1.0,0.0,1.0,0.0,1.0,0.0,1.0,1.0,0.0,0.0,1.0,1.0,0.0,0.0,0.0,1.0,1.0,0.0,1.0,0.0,0.0,1.0,1.0,1.0,1.0,1.0,1.0,1.0,1.0,1.0,0.0,0.0,0.0,0.0,0.0,0.0,1.0,0.0,1.0,0.0,0.0,1.0,0.0,1.0,1.0,0.0,1.0,1.0,0.0,0.0,0.0,1.0,1.0,0.0,1.0,0.0,1.0,1.0,0.0,1.0,0.0,1.0,0.0,0.0,0.0,0.0,1.0,0.0,0.0,1.0,1.0,1.0,0.0,1.0,1.0,0.0,1.0,1.0,0.0,0.0,0.0,0.0,0.0,1.0,1.0,0.0,0.0,1.0,1.0,1.0,0.0,1.0,1.0,0.0,1.0,0.0,0.0,0.0,1.0,0.0,1.0,1.0,0.0,0.0,0.0,0.0,1.0,1.0,1.0,1.0,0.0,1.0,1.0,1.0,0.0,0.0,0.0,0.0,1.0,1.0,1.0,1.0,1.0,0.0,1.0,0.0,1.0,1.0,0.0,1.0,0.0,0.0,1.0,0.0,1.0,0.0,0.0,0.0,0.0,0.0,1.0,1.0,0.0,0.0,1.0,0.0,1.0,0.0,1.0,1.0,0.0,1.0,1.0,0.0,0.0,0.0,1.0,0.0,1.0,0.0,0.0,1.0,0.0,0.0,1.0,1.0,1.0,1.0,0.0,0.0,1.0,1.0,1.0,0.0,1.0,0.0,1.0,0.0,0.0,1.0,1.0,0.0,0.0,1.0,1.0,0.0,0.0,0.0,0.0,1.0,0.0,0.0,1.0,1.0,1.0,1.0,0.0,0.0,1.0,1.0,1.0,1.0,0.0,0.0,1.0,1.0,1.0,1.0,1.0,1.0,0.0,0.0,1.0,0.0,1.0,0.0,1.0,0.0,0.0,1.0,0.0,1.0,0.0,0.0,1.0,0.0,1.0,1.0,0.0,0.0,1.0,0.0,0.0,1.0,0.0,0.0,0.0,1.0,1.0,1.0,1.0,0.0,0.0,1.0,0.0,0.0,0.0,0.0,1.0,0.0,0.0,1.0,0.0,1.0,0.0,0.0,1.0,0.0,1.0,1.0,1.0,1.0,1.0,0.0,0.0,1.0,0.0,0.0,1.0,0.0,0.0,1.0,0.0,0.0,0.0,0.0,1.0,0.0,1.0,1.0,1.0,1.0,0.0,0.0,1.0,0.0,1.0,0.0,0.0,0.0,1.0,0.0,1.0,0.0,1.0,0.0,0.0],\"xaxis\":\"x\",\"y\":[0.0,334.0,0.0,388.0,406.0,680.0,533.0,0.0,928.0,782.0,0.0,259.0,0.0,613.0,0.0,0.0,422.0,937.0,575.0,736.0,523.0,512.0,0.0,758.0,0.0,0.0,484.0,800.0,596.0,363.0,156.0,780.0,911.0,693.0,572.0,0.0,726.0,469.0,406.0,544.0,0.0,437.0,578.0,0.0,672.0,763.0,820.0,904.0,309.0,0.0,337.0,233.0,729.0,246.0,715.0,382.0,875.0,540.0,536.0,382.0,542.0,0.0,747.0,708.0,875.0,462.0,374.0,386.0,575.0,469.0,0.0,859.0,717.0,0.0,0.0,780.0,657.0,161.0,322.0,691.0,430.0,0.0,0.0,0.0,0.0,0.0,384.0,687.0,440.0,224.0,456.0,167.0,452.0,448.0,785.0,639.0,758.0,782.0,0.0,689.0,456.0,488.0,278.0,763.0,575.0,242.0,0.0,0.0,408.0,0.0,0.0,217.0,496.0,407.0,517.0,0.0,715.0,397.0,763.0,426.0,0.0,477.0,0.0,0.0,0.0,0.0,830.0,431.0,0.0,531.0,394.0,958.0,0.0,659.0,148.0,0.0,410.0,853.0,0.0,242.0,206.0,823.0,0.0,959.0,456.0,417.0,0.0,0.0,0.0,882.0,165.0,488.0,0.0,406.0,397.0,504.0,0.0,592.0,560.0,0.0,650.0,384.0,924.0,374.0,374.0,164.0,0.0,422.0,0.0,0.0,365.0,424.0,0.0,492.0,953.0,895.0,237.0,920.0,391.0,560.0,0.0,387.0,0.0,733.0,183.0,672.0,183.0,156.0,510.0,0.0,285.0,0.0,0.0,0.0,618.0,364.0,392.0,466.0,712.0,0.0,712.0,514.0,0.0,0.0,0.0,575.0,0.0,0.0,0.0,546.0,0.0,431.0,0.0,0.0,332.0,0.0,433.0,853.0,274.0,607.0,0.0,930.0,758.0,817.0,0.0,244.0,0.0,373.0,911.0,442.0,922.0,521.0,0.0,363.0,417.0,0.0,0.0,153.0,775.0,0.0,0.0,171.0,907.0,0.0,641.0,643.0,568.0,411.0,337.0,244.0,705.0,437.0,866.0,703.0,454.0,469.0,0.0,0.0,448.0,412.0,0.0,358.0,516.0,0.0,611.0,0.0,935.0,703.0,381.0,953.0,760.0,0.0,382.0,575.0,0.0,911.0,792.0,304.0,0.0,376.0,605.0,850.0,278.0,575.0,159.0,0.0,348.0,0.0,0.0,360.0,350.0,132.0,780.0,0.0,615.0,430.0,492.0,0.0,590.0,444.0,575.0,0.0,0.0,0.0,346.0,0.0,596.0,575.0,492.0,0.0,0.0,488.0,376.0,0.0,708.0,592.0,0.0,773.0,0.0,533.0,790.0,109.0,0.0,582.0,452.0,380.0,0.0,657.0,0.0,204.0,568.0,717.0,647.0,170.0,958.0,295.0,356.0,0.0,0.0,0.0,0.0,795.0,391.0,311.0,765.0,416.0,920.0,302.0,0.0,425.0,415.0,632.0,483.0,0.0,346.0,787.0,0.0,525.0,575.0,0.0,0.0,431.0,0.0,641.0,674.0,0.0,477.0,952.0,691.0,639.0,0.0,729.0,562.0,0.0,375.0,958.0,248.0,170.0,807.0,389.0,0.0,446.0,0.0,929.0,908.0,657.0,508.0,922.0,884.0,753.0,492.0,884.0,0.0,519.0,382.0,570.0,415.0,912.0,568.0,542.0,0.0,408.0,458.0,670.0,700.0,0.0,542.0,719.0,904.0,0.0,0.0,434.0,346.0,0.0,0.0,715.0,380.0,477.0,655.0,951.0,0.0,0.0,0.0,0.0,0.0,0.0,0.0,316.0,454.0,590.0,454.0,961.0,506.0,0.0,0.0,864.0,906.0,469.0,0.0,200.0,424.0,159.0,158.0,632.0,750.0,665.0,0.0,0.0,0.0,758.0,722.0,672.0,0.0,906.0,0.0,0.0,397.0,407.0,575.0,510.0,244.0,475.0,575.0,575.0,830.0,0.0,502.0,0.0,0.0,0.0,0.0,327.0,450.0,393.0,575.0,0.0,562.0,403.0,668.0,888.0,517.0,900.0,888.0,0.0,575.0,556.0,0.0,417.0,0.0,233.0,466.0,613.0,0.0,782.0,523.0,519.0,0.0,0.0,0.0,415.0,866.0,708.0,639.0,908.0,913.0,562.0,0.0,372.0,0.0,780.0,0.0,0.0,486.0,635.0,0.0,426.0,118.0,410.0,438.0,0.0],\"yaxis\":\"y\",\"type\":\"scatter\"}],                        {\"template\":{\"data\":{\"bar\":[{\"error_x\":{\"color\":\"#2a3f5f\"},\"error_y\":{\"color\":\"#2a3f5f\"},\"marker\":{\"line\":{\"color\":\"#E5ECF6\",\"width\":0.5},\"pattern\":{\"fillmode\":\"overlay\",\"size\":10,\"solidity\":0.2}},\"type\":\"bar\"}],\"barpolar\":[{\"marker\":{\"line\":{\"color\":\"#E5ECF6\",\"width\":0.5},\"pattern\":{\"fillmode\":\"overlay\",\"size\":10,\"solidity\":0.2}},\"type\":\"barpolar\"}],\"carpet\":[{\"aaxis\":{\"endlinecolor\":\"#2a3f5f\",\"gridcolor\":\"white\",\"linecolor\":\"white\",\"minorgridcolor\":\"white\",\"startlinecolor\":\"#2a3f5f\"},\"baxis\":{\"endlinecolor\":\"#2a3f5f\",\"gridcolor\":\"white\",\"linecolor\":\"white\",\"minorgridcolor\":\"white\",\"startlinecolor\":\"#2a3f5f\"},\"type\":\"carpet\"}],\"choropleth\":[{\"colorbar\":{\"outlinewidth\":0,\"ticks\":\"\"},\"type\":\"choropleth\"}],\"contour\":[{\"colorbar\":{\"outlinewidth\":0,\"ticks\":\"\"},\"colorscale\":[[0.0,\"#0d0887\"],[0.1111111111111111,\"#46039f\"],[0.2222222222222222,\"#7201a8\"],[0.3333333333333333,\"#9c179e\"],[0.4444444444444444,\"#bd3786\"],[0.5555555555555556,\"#d8576b\"],[0.6666666666666666,\"#ed7953\"],[0.7777777777777778,\"#fb9f3a\"],[0.8888888888888888,\"#fdca26\"],[1.0,\"#f0f921\"]],\"type\":\"contour\"}],\"contourcarpet\":[{\"colorbar\":{\"outlinewidth\":0,\"ticks\":\"\"},\"type\":\"contourcarpet\"}],\"heatmap\":[{\"colorbar\":{\"outlinewidth\":0,\"ticks\":\"\"},\"colorscale\":[[0.0,\"#0d0887\"],[0.1111111111111111,\"#46039f\"],[0.2222222222222222,\"#7201a8\"],[0.3333333333333333,\"#9c179e\"],[0.4444444444444444,\"#bd3786\"],[0.5555555555555556,\"#d8576b\"],[0.6666666666666666,\"#ed7953\"],[0.7777777777777778,\"#fb9f3a\"],[0.8888888888888888,\"#fdca26\"],[1.0,\"#f0f921\"]],\"type\":\"heatmap\"}],\"heatmapgl\":[{\"colorbar\":{\"outlinewidth\":0,\"ticks\":\"\"},\"colorscale\":[[0.0,\"#0d0887\"],[0.1111111111111111,\"#46039f\"],[0.2222222222222222,\"#7201a8\"],[0.3333333333333333,\"#9c179e\"],[0.4444444444444444,\"#bd3786\"],[0.5555555555555556,\"#d8576b\"],[0.6666666666666666,\"#ed7953\"],[0.7777777777777778,\"#fb9f3a\"],[0.8888888888888888,\"#fdca26\"],[1.0,\"#f0f921\"]],\"type\":\"heatmapgl\"}],\"histogram\":[{\"marker\":{\"pattern\":{\"fillmode\":\"overlay\",\"size\":10,\"solidity\":0.2}},\"type\":\"histogram\"}],\"histogram2d\":[{\"colorbar\":{\"outlinewidth\":0,\"ticks\":\"\"},\"colorscale\":[[0.0,\"#0d0887\"],[0.1111111111111111,\"#46039f\"],[0.2222222222222222,\"#7201a8\"],[0.3333333333333333,\"#9c179e\"],[0.4444444444444444,\"#bd3786\"],[0.5555555555555556,\"#d8576b\"],[0.6666666666666666,\"#ed7953\"],[0.7777777777777778,\"#fb9f3a\"],[0.8888888888888888,\"#fdca26\"],[1.0,\"#f0f921\"]],\"type\":\"histogram2d\"}],\"histogram2dcontour\":[{\"colorbar\":{\"outlinewidth\":0,\"ticks\":\"\"},\"colorscale\":[[0.0,\"#0d0887\"],[0.1111111111111111,\"#46039f\"],[0.2222222222222222,\"#7201a8\"],[0.3333333333333333,\"#9c179e\"],[0.4444444444444444,\"#bd3786\"],[0.5555555555555556,\"#d8576b\"],[0.6666666666666666,\"#ed7953\"],[0.7777777777777778,\"#fb9f3a\"],[0.8888888888888888,\"#fdca26\"],[1.0,\"#f0f921\"]],\"type\":\"histogram2dcontour\"}],\"mesh3d\":[{\"colorbar\":{\"outlinewidth\":0,\"ticks\":\"\"},\"type\":\"mesh3d\"}],\"parcoords\":[{\"line\":{\"colorbar\":{\"outlinewidth\":0,\"ticks\":\"\"}},\"type\":\"parcoords\"}],\"pie\":[{\"automargin\":true,\"type\":\"pie\"}],\"scatter\":[{\"marker\":{\"colorbar\":{\"outlinewidth\":0,\"ticks\":\"\"}},\"type\":\"scatter\"}],\"scatter3d\":[{\"line\":{\"colorbar\":{\"outlinewidth\":0,\"ticks\":\"\"}},\"marker\":{\"colorbar\":{\"outlinewidth\":0,\"ticks\":\"\"}},\"type\":\"scatter3d\"}],\"scattercarpet\":[{\"marker\":{\"colorbar\":{\"outlinewidth\":0,\"ticks\":\"\"}},\"type\":\"scattercarpet\"}],\"scattergeo\":[{\"marker\":{\"colorbar\":{\"outlinewidth\":0,\"ticks\":\"\"}},\"type\":\"scattergeo\"}],\"scattergl\":[{\"marker\":{\"colorbar\":{\"outlinewidth\":0,\"ticks\":\"\"}},\"type\":\"scattergl\"}],\"scattermapbox\":[{\"marker\":{\"colorbar\":{\"outlinewidth\":0,\"ticks\":\"\"}},\"type\":\"scattermapbox\"}],\"scatterpolar\":[{\"marker\":{\"colorbar\":{\"outlinewidth\":0,\"ticks\":\"\"}},\"type\":\"scatterpolar\"}],\"scatterpolargl\":[{\"marker\":{\"colorbar\":{\"outlinewidth\":0,\"ticks\":\"\"}},\"type\":\"scatterpolargl\"}],\"scatterternary\":[{\"marker\":{\"colorbar\":{\"outlinewidth\":0,\"ticks\":\"\"}},\"type\":\"scatterternary\"}],\"surface\":[{\"colorbar\":{\"outlinewidth\":0,\"ticks\":\"\"},\"colorscale\":[[0.0,\"#0d0887\"],[0.1111111111111111,\"#46039f\"],[0.2222222222222222,\"#7201a8\"],[0.3333333333333333,\"#9c179e\"],[0.4444444444444444,\"#bd3786\"],[0.5555555555555556,\"#d8576b\"],[0.6666666666666666,\"#ed7953\"],[0.7777777777777778,\"#fb9f3a\"],[0.8888888888888888,\"#fdca26\"],[1.0,\"#f0f921\"]],\"type\":\"surface\"}],\"table\":[{\"cells\":{\"fill\":{\"color\":\"#EBF0F8\"},\"line\":{\"color\":\"white\"}},\"header\":{\"fill\":{\"color\":\"#C8D4E3\"},\"line\":{\"color\":\"white\"}},\"type\":\"table\"}]},\"layout\":{\"annotationdefaults\":{\"arrowcolor\":\"#2a3f5f\",\"arrowhead\":0,\"arrowwidth\":1},\"autotypenumbers\":\"strict\",\"coloraxis\":{\"colorbar\":{\"outlinewidth\":0,\"ticks\":\"\"}},\"colorscale\":{\"diverging\":[[0,\"#8e0152\"],[0.1,\"#c51b7d\"],[0.2,\"#de77ae\"],[0.3,\"#f1b6da\"],[0.4,\"#fde0ef\"],[0.5,\"#f7f7f7\"],[0.6,\"#e6f5d0\"],[0.7,\"#b8e186\"],[0.8,\"#7fbc41\"],[0.9,\"#4d9221\"],[1,\"#276419\"]],\"sequential\":[[0.0,\"#0d0887\"],[0.1111111111111111,\"#46039f\"],[0.2222222222222222,\"#7201a8\"],[0.3333333333333333,\"#9c179e\"],[0.4444444444444444,\"#bd3786\"],[0.5555555555555556,\"#d8576b\"],[0.6666666666666666,\"#ed7953\"],[0.7777777777777778,\"#fb9f3a\"],[0.8888888888888888,\"#fdca26\"],[1.0,\"#f0f921\"]],\"sequentialminus\":[[0.0,\"#0d0887\"],[0.1111111111111111,\"#46039f\"],[0.2222222222222222,\"#7201a8\"],[0.3333333333333333,\"#9c179e\"],[0.4444444444444444,\"#bd3786\"],[0.5555555555555556,\"#d8576b\"],[0.6666666666666666,\"#ed7953\"],[0.7777777777777778,\"#fb9f3a\"],[0.8888888888888888,\"#fdca26\"],[1.0,\"#f0f921\"]]},\"colorway\":[\"#636efa\",\"#EF553B\",\"#00cc96\",\"#ab63fa\",\"#FFA15A\",\"#19d3f3\",\"#FF6692\",\"#B6E880\",\"#FF97FF\",\"#FECB52\"],\"font\":{\"color\":\"#2a3f5f\"},\"geo\":{\"bgcolor\":\"white\",\"lakecolor\":\"white\",\"landcolor\":\"#E5ECF6\",\"showlakes\":true,\"showland\":true,\"subunitcolor\":\"white\"},\"hoverlabel\":{\"align\":\"left\"},\"hovermode\":\"closest\",\"mapbox\":{\"style\":\"light\"},\"paper_bgcolor\":\"white\",\"plot_bgcolor\":\"#E5ECF6\",\"polar\":{\"angularaxis\":{\"gridcolor\":\"white\",\"linecolor\":\"white\",\"ticks\":\"\"},\"bgcolor\":\"#E5ECF6\",\"radialaxis\":{\"gridcolor\":\"white\",\"linecolor\":\"white\",\"ticks\":\"\"}},\"scene\":{\"xaxis\":{\"backgroundcolor\":\"#E5ECF6\",\"gridcolor\":\"white\",\"gridwidth\":2,\"linecolor\":\"white\",\"showbackground\":true,\"ticks\":\"\",\"zerolinecolor\":\"white\"},\"yaxis\":{\"backgroundcolor\":\"#E5ECF6\",\"gridcolor\":\"white\",\"gridwidth\":2,\"linecolor\":\"white\",\"showbackground\":true,\"ticks\":\"\",\"zerolinecolor\":\"white\"},\"zaxis\":{\"backgroundcolor\":\"#E5ECF6\",\"gridcolor\":\"white\",\"gridwidth\":2,\"linecolor\":\"white\",\"showbackground\":true,\"ticks\":\"\",\"zerolinecolor\":\"white\"}},\"shapedefaults\":{\"line\":{\"color\":\"#2a3f5f\"}},\"ternary\":{\"aaxis\":{\"gridcolor\":\"white\",\"linecolor\":\"white\",\"ticks\":\"\"},\"baxis\":{\"gridcolor\":\"white\",\"linecolor\":\"white\",\"ticks\":\"\"},\"bgcolor\":\"#E5ECF6\",\"caxis\":{\"gridcolor\":\"white\",\"linecolor\":\"white\",\"ticks\":\"\"}},\"title\":{\"x\":0.05},\"xaxis\":{\"automargin\":true,\"gridcolor\":\"white\",\"linecolor\":\"white\",\"ticks\":\"\",\"title\":{\"standoff\":15},\"zerolinecolor\":\"white\",\"zerolinewidth\":2},\"yaxis\":{\"automargin\":true,\"gridcolor\":\"white\",\"linecolor\":\"white\",\"ticks\":\"\",\"title\":{\"standoff\":15},\"zerolinecolor\":\"white\",\"zerolinewidth\":2}}},\"xaxis\":{\"anchor\":\"y\",\"domain\":[0.0,1.0],\"title\":{\"text\":\"ind_atrito\"},\"type\":\"category\"},\"yaxis\":{\"anchor\":\"x\",\"domain\":[0.0,1.0],\"title\":{\"text\":\"vlr_score\"}},\"legend\":{\"tracegroupgap\":0},\"margin\":{\"t\":60},\"height\":300,\"width\":600},                        {\"responsive\": true}                    ).then(function(){\n",
              "                            \n",
              "var gd = document.getElementById('6d21eeea-cae3-43b3-80ae-e58556d0935c');\n",
              "var x = new MutationObserver(function (mutations, observer) {{\n",
              "        var display = window.getComputedStyle(gd).display;\n",
              "        if (!display || display === 'none') {{\n",
              "            console.log([gd, 'removed!']);\n",
              "            Plotly.purge(gd);\n",
              "            observer.disconnect();\n",
              "        }}\n",
              "}});\n",
              "\n",
              "// Listen for the removal of the full notebook cells\n",
              "var notebookContainer = gd.closest('#notebook-container');\n",
              "if (notebookContainer) {{\n",
              "    x.observe(notebookContainer, {childList: true});\n",
              "}}\n",
              "\n",
              "// Listen for the clearing of the current output cell\n",
              "var outputEl = gd.closest('.output');\n",
              "if (outputEl) {{\n",
              "    x.observe(outputEl, {childList: true});\n",
              "}}\n",
              "\n",
              "                        })                };                            </script>        </div>\n",
              "</body>\n",
              "</html>"
            ]
          },
          "metadata": {}
        }
      ]
    },
    {
      "cell_type": "markdown",
      "source": [
        "**Seleção das Colunas dos Dados**\n",
        "- FASE 10: Seleção de todas as colunas escolhidas no foco de treinamento da IA. Esses campos foram escolhidos por meio da estimativa de existir correlação entre algumas colunas 'qtd_reclm', 'num_atend_atrs', 'num_atend', 'ind_atrito', 'cod_rating' e 'vlr_score' que ajudaram na fase de treinamento, afim de gerar o modelo preditivo.\n",
        "- Não estão sendo usadas todas as colunas pois algumas delas poderiam gerar vieses nos resultados e assim, o treinamento não seria tão efetivo."
      ],
      "metadata": {
        "id": "idTjlSA8yO0R"
      }
    },
    {
      "cell_type": "code",
      "source": [
        "#Colunas escolhidas da base de dados para serem utilizadas\n",
        "colunas_para_treinamento = ['qtd_reclm','num_atend_atrs','num_atend','ind_atrito','cod_rating', 'vlr_score']\n",
        "\n"
      ],
      "metadata": {
        "id": "0XXbl8GCEpeg"
      },
      "execution_count": null,
      "outputs": []
    }
  ]
}